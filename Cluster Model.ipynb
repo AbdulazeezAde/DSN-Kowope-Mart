{
 "cells": [
  {
   "cell_type": "code",
   "execution_count": 14,
   "metadata": {
    "ExecuteTime": {
     "end_time": "2020-10-04T12:02:46.045684Z",
     "start_time": "2020-10-04T12:02:46.031684Z"
    }
   },
   "outputs": [],
   "source": [
    "import pandas as pd\n",
    "import numpy as np\n",
    "import seaborn as sns\n",
    "import matplotlib.pyplot as plt\n",
    "sns.set_style('whitegrid')\n",
    "%matplotlib inline\n",
    "import warnings\n",
    "warnings.filterwarnings('ignore')\n",
    "pd.set_option('display.max_columns',None)\n",
    "from sklearn.cluster import KMeans\n",
    "from catboost import CatBoostClassifier\n",
    "from sklearn.model_selection import KFold\n",
    "from sklearn.metrics import roc_auc_score, roc_curve\n",
    "from sklearn.preprocessing import LabelEncoder"
   ]
  },
  {
   "cell_type": "code",
   "execution_count": 15,
   "metadata": {
    "ExecuteTime": {
     "end_time": "2020-10-04T12:02:48.021562Z",
     "start_time": "2020-10-04T12:02:46.414662Z"
    }
   },
   "outputs": [],
   "source": [
    "train = pd.read_csv('Train.csv')\n",
    "test = pd.read_csv('Test.csv')"
   ]
  },
  {
   "cell_type": "code",
   "execution_count": 16,
   "metadata": {
    "ExecuteTime": {
     "end_time": "2020-10-04T12:02:48.384542Z",
     "start_time": "2020-10-04T12:02:48.373542Z"
    }
   },
   "outputs": [],
   "source": [
    "random = 1234"
   ]
  },
  {
   "cell_type": "markdown",
   "metadata": {
    "ExecuteTime": {
     "end_time": "2020-10-04T11:44:44.026953Z",
     "start_time": "2020-10-04T11:44:44.023953Z"
    }
   },
   "source": [
    "# Basic Exploratory Analysis"
   ]
  },
  {
   "cell_type": "code",
   "execution_count": 17,
   "metadata": {
    "ExecuteTime": {
     "end_time": "2020-10-04T12:02:48.864513Z",
     "start_time": "2020-10-04T12:02:48.696523Z"
    }
   },
   "outputs": [],
   "source": [
    "train.default_status = train.default_status.replace({'no':0,'yes':1})\n",
    "train.form_field47 = train.form_field47.replace({'charge':1,'lending':0})\n",
    "test.form_field47 = test.form_field47.replace({'charge':1,'lending':0})"
   ]
  },
  {
   "cell_type": "markdown",
   "metadata": {
    "ExecuteTime": {
     "end_time": "2020-10-04T11:45:00.172963Z",
     "start_time": "2020-10-04T11:45:00.169965Z"
    }
   },
   "source": [
    "### Cluster Analysis\n",
    "\n",
    "<b>The Columns used where based on feature importances of them on Training at first instance</b>\\\n",
    "\n",
    "<b> The K feature was selected using the Elbow Method</b>"
   ]
  },
  {
   "cell_type": "code",
   "execution_count": 18,
   "metadata": {
    "ExecuteTime": {
     "end_time": "2020-10-04T12:02:49.164494Z",
     "start_time": "2020-10-04T12:02:49.135495Z"
    }
   },
   "outputs": [],
   "source": [
    "clus = ['form_field47','form_field1','form_field2', 'form_field6']\n",
    "train_km = train[clus].copy()\n",
    "train_km = train_km.fillna(0)\n",
    "test_km = test[clus].copy()\n",
    "test_km = test_km.fillna(0)"
   ]
  },
  {
   "cell_type": "code",
   "execution_count": 19,
   "metadata": {
    "ExecuteTime": {
     "end_time": "2020-10-04T12:02:52.054316Z",
     "start_time": "2020-10-04T12:02:49.483474Z"
    }
   },
   "outputs": [
    {
     "data": {
      "text/plain": [
       "KMeans(algorithm='auto', copy_x=True, init='k-means++', max_iter=300,\n",
       "       n_clusters=4, n_init=10, n_jobs=None, precompute_distances='auto',\n",
       "       random_state=0, tol=0.0001, verbose=0)"
      ]
     },
     "execution_count": 19,
     "metadata": {},
     "output_type": "execute_result"
    }
   ],
   "source": [
    "km = KMeans(n_clusters=4,init='k-means++',n_init=10,max_iter=300,random_state=0)\n",
    "km.fit(train_km)"
   ]
  },
  {
   "cell_type": "code",
   "execution_count": 20,
   "metadata": {
    "ExecuteTime": {
     "end_time": "2020-10-04T12:02:52.384296Z",
     "start_time": "2020-10-04T12:02:52.306302Z"
    }
   },
   "outputs": [],
   "source": [
    "train['cluster'] = km.predict(train_km[clus])\n",
    "test['cluster'] = km.predict(test_km[clus])"
   ]
  },
  {
   "cell_type": "code",
   "execution_count": 21,
   "metadata": {
    "ExecuteTime": {
     "end_time": "2020-10-04T12:02:52.679278Z",
     "start_time": "2020-10-04T12:02:52.672279Z"
    }
   },
   "outputs": [],
   "source": [
    "def col(data):\n",
    "    cat_col = [i for i in data.columns if train[i].dtypes == 'O']\n",
    "    num_col = [i for i in data.columns.tolist() if i not in cat_col]\n",
    "    return num_col"
   ]
  },
  {
   "cell_type": "code",
   "execution_count": 22,
   "metadata": {
    "ExecuteTime": {
     "end_time": "2020-10-04T12:02:53.199246Z",
     "start_time": "2020-10-04T12:02:53.082254Z"
    }
   },
   "outputs": [],
   "source": [
    "X = train[col(train)].drop('default_status', axis = 1)\n",
    "y = train.default_status"
   ]
  },
  {
   "cell_type": "markdown",
   "metadata": {},
   "source": [
    "## ML Model using a KFold of 7 proved to be the best and a iteration of 1500"
   ]
  },
  {
   "cell_type": "code",
   "execution_count": 23,
   "metadata": {
    "ExecuteTime": {
     "end_time": "2020-10-04T12:11:26.749297Z",
     "start_time": "2020-10-04T12:05:17.560405Z"
    }
   },
   "outputs": [
    {
     "name": "stdout",
     "output_type": "stream",
     "text": [
      "ROC AUC Score:  0.8362494461840382\n",
      "ROC AUC Score:  0.8433676815109168\n",
      "ROC AUC Score:  0.839796343368959\n",
      "ROC AUC Score:  0.8407875338962245\n",
      "ROC AUC Score:  0.8280431748170967\n",
      "ROC AUC Score:  0.8447979083869023\n",
      "ROC AUC Score:  0.8473595746028934\n"
     ]
    }
   ],
   "source": [
    "cv_score=[]\n",
    "test_pred=[]\n",
    "split = 7\n",
    "fold=KFold(n_splits=split, random_state=random)\n",
    "\n",
    "for train_index, test_index in fold.split(X,y):\n",
    "    X_train, X_test = X.iloc[train_index], X.iloc[test_index]\n",
    "    y_train, y_test = y.iloc[train_index], y.iloc[test_index]\n",
    "    \n",
    "    cat=CatBoostClassifier(iterations=1500, logging_level='Silent', od_wait=50, od_type='Iter', eval_metric='AUC')\n",
    "    cat.fit(X_train,y_train,eval_set=[(X_train,y_train),(X_test, y_test)], early_stopping_rounds=100,verbose=100)\n",
    "    \n",
    "    # Appending predictions into list\n",
    "    preds=cat.predict_proba(X_test)[:,1]\n",
    "    print(\"ROC AUC Score: \",roc_auc_score(y_test,preds))\n",
    "    cv_score.append(roc_auc_score(y_test,preds))\n",
    "    test_p = cat.predict_proba(test[X.columns])[:,1]\n",
    "    test_pred.append(test_p)"
   ]
  },
  {
   "cell_type": "code",
   "execution_count": 31,
   "metadata": {
    "ExecuteTime": {
     "end_time": "2020-10-04T12:12:42.119683Z",
     "start_time": "2020-10-04T12:12:42.114682Z"
    }
   },
   "outputs": [
    {
     "name": "stdout",
     "output_type": "stream",
     "text": [
      "Mean of ROC Score: 0.8400573803952902\n"
     ]
    }
   ],
   "source": [
    "print(f'Mean of ROC Score: {np.array(cv_score).mean()}')"
   ]
  },
  {
   "cell_type": "code",
   "execution_count": 33,
   "metadata": {
    "ExecuteTime": {
     "end_time": "2020-10-04T12:13:14.931675Z",
     "start_time": "2020-10-04T12:13:14.925673Z"
    }
   },
   "outputs": [],
   "source": [
    "pred = np.sum(np.array(test_pred),axis=0)/split"
   ]
  },
  {
   "cell_type": "markdown",
   "metadata": {},
   "source": [
    "### Creating Prediction file"
   ]
  },
  {
   "cell_type": "code",
   "execution_count": 34,
   "metadata": {
    "ExecuteTime": {
     "end_time": "2020-10-04T12:13:16.051606Z",
     "start_time": "2020-10-04T12:13:16.044605Z"
    }
   },
   "outputs": [],
   "source": [
    "sub = pd.DataFrame({'Applicant_ID':test.Applicant_ID, 'default_status':pred})"
   ]
  },
  {
   "cell_type": "code",
   "execution_count": 35,
   "metadata": {
    "ExecuteTime": {
     "end_time": "2020-10-04T12:13:16.586573Z",
     "start_time": "2020-10-04T12:13:16.427581Z"
    }
   },
   "outputs": [],
   "source": [
    "sub.to_csv('cluster_submission.csv', index = False)"
   ]
  },
  {
   "cell_type": "code",
   "execution_count": 36,
   "metadata": {
    "ExecuteTime": {
     "end_time": "2020-10-04T12:13:16.967549Z",
     "start_time": "2020-10-04T12:13:16.934552Z"
    }
   },
   "outputs": [
    {
     "data": {
      "text/html": [
       "<div>\n",
       "<style scoped>\n",
       "    .dataframe tbody tr th:only-of-type {\n",
       "        vertical-align: middle;\n",
       "    }\n",
       "\n",
       "    .dataframe tbody tr th {\n",
       "        vertical-align: top;\n",
       "    }\n",
       "\n",
       "    .dataframe thead th {\n",
       "        text-align: right;\n",
       "    }\n",
       "</style>\n",
       "<table border=\"1\" class=\"dataframe\">\n",
       "  <thead>\n",
       "    <tr style=\"text-align: right;\">\n",
       "      <th></th>\n",
       "      <th>default_status</th>\n",
       "    </tr>\n",
       "  </thead>\n",
       "  <tbody>\n",
       "    <tr>\n",
       "      <td>count</td>\n",
       "      <td>24000.000000</td>\n",
       "    </tr>\n",
       "    <tr>\n",
       "      <td>mean</td>\n",
       "      <td>0.244367</td>\n",
       "    </tr>\n",
       "    <tr>\n",
       "      <td>std</td>\n",
       "      <td>0.232597</td>\n",
       "    </tr>\n",
       "    <tr>\n",
       "      <td>min</td>\n",
       "      <td>0.001922</td>\n",
       "    </tr>\n",
       "    <tr>\n",
       "      <td>25%</td>\n",
       "      <td>0.046488</td>\n",
       "    </tr>\n",
       "    <tr>\n",
       "      <td>50%</td>\n",
       "      <td>0.169450</td>\n",
       "    </tr>\n",
       "    <tr>\n",
       "      <td>75%</td>\n",
       "      <td>0.384267</td>\n",
       "    </tr>\n",
       "    <tr>\n",
       "      <td>max</td>\n",
       "      <td>0.968180</td>\n",
       "    </tr>\n",
       "  </tbody>\n",
       "</table>\n",
       "</div>"
      ],
      "text/plain": [
       "       default_status\n",
       "count    24000.000000\n",
       "mean         0.244367\n",
       "std          0.232597\n",
       "min          0.001922\n",
       "25%          0.046488\n",
       "50%          0.169450\n",
       "75%          0.384267\n",
       "max          0.968180"
      ]
     },
     "execution_count": 36,
     "metadata": {},
     "output_type": "execute_result"
    }
   ],
   "source": [
    "sub.describe()"
   ]
  }
 ],
 "metadata": {
  "kernelspec": {
   "display_name": "Python 3",
   "language": "python",
   "name": "python3"
  },
  "language_info": {
   "codemirror_mode": {
    "name": "ipython",
    "version": 3
   },
   "file_extension": ".py",
   "mimetype": "text/x-python",
   "name": "python",
   "nbconvert_exporter": "python",
   "pygments_lexer": "ipython3",
   "version": "3.7.4"
  },
  "latex_envs": {
   "LaTeX_envs_menu_present": true,
   "autoclose": false,
   "autocomplete": true,
   "bibliofile": "biblio.bib",
   "cite_by": "apalike",
   "current_citInitial": 1,
   "eqLabelWithNumbers": true,
   "eqNumInitial": 1,
   "hotkeys": {
    "equation": "Ctrl-E",
    "itemize": "Ctrl-I"
   },
   "labels_anchors": false,
   "latex_user_defs": false,
   "report_style_numbering": false,
   "user_envs_cfg": false
  },
  "varInspector": {
   "cols": {
    "lenName": 16,
    "lenType": 16,
    "lenVar": 40
   },
   "kernels_config": {
    "python": {
     "delete_cmd_postfix": "",
     "delete_cmd_prefix": "del ",
     "library": "var_list.py",
     "varRefreshCmd": "print(var_dic_list())"
    },
    "r": {
     "delete_cmd_postfix": ") ",
     "delete_cmd_prefix": "rm(",
     "library": "var_list.r",
     "varRefreshCmd": "cat(var_dic_list()) "
    }
   },
   "types_to_exclude": [
    "module",
    "function",
    "builtin_function_or_method",
    "instance",
    "_Feature"
   ],
   "window_display": false
  }
 },
 "nbformat": 4,
 "nbformat_minor": 2
}

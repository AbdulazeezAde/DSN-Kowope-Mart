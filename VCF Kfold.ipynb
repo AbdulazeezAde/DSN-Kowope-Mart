{
 "cells": [
  {
   "cell_type": "code",
   "execution_count": 1,
   "metadata": {
    "ExecuteTime": {
     "end_time": "2020-10-04T12:27:20.522128Z",
     "start_time": "2020-10-04T12:26:58.090503Z"
    }
   },
   "outputs": [],
   "source": [
    "import pandas as pd\n",
    "import numpy as np\n",
    "import seaborn as sns\n",
    "import scipy as sc\n",
    "import matplotlib.pyplot as plt\n",
    "sns.set_style('whitegrid')\n",
    "%matplotlib inline\n",
    "import warnings\n",
    "warnings.filterwarnings('ignore')\n",
    "pd.set_option('display.max_columns',None)\n",
    "from lightgbm import LGBMClassifier\n",
    "from sklearn.utils import resample\n",
    "from sklearn.ensemble import RandomForestClassifier, ExtraTreesClassifier, VotingClassifier\n",
    "from sklearn.model_selection import KFold,train_test_split\n",
    "from sklearn.metrics import roc_auc_score, roc_curve\n",
    "from sklearn.preprocessing import LabelEncoder\n",
    "le = LabelEncoder()"
   ]
  },
  {
   "cell_type": "code",
   "execution_count": 4,
   "metadata": {
    "ExecuteTime": {
     "end_time": "2020-10-04T12:27:37.653082Z",
     "start_time": "2020-10-04T12:27:34.017305Z"
    }
   },
   "outputs": [],
   "source": [
    "train = pd.read_csv('Train.csv').fillna(0)\n",
    "test = pd.read_csv('Test.csv').fillna(0)"
   ]
  },
  {
   "cell_type": "code",
   "execution_count": 5,
   "metadata": {
    "ExecuteTime": {
     "end_time": "2020-10-04T12:27:38.297040Z",
     "start_time": "2020-10-04T12:27:38.292041Z"
    }
   },
   "outputs": [],
   "source": [
    "random = 2019"
   ]
  },
  {
   "cell_type": "markdown",
   "metadata": {},
   "source": [
    "# Basic Exploratory Analysis"
   ]
  },
  {
   "cell_type": "code",
   "execution_count": 6,
   "metadata": {
    "ExecuteTime": {
     "end_time": "2020-10-04T12:27:41.199863Z",
     "start_time": "2020-10-04T12:27:41.153866Z"
    }
   },
   "outputs": [],
   "source": [
    "def pred(data):\n",
    "    default_status = []\n",
    "    for i in train.default_status:\n",
    "        if i == 'no':\n",
    "            default_status.append(0)\n",
    "        else:\n",
    "            default_status.append(1)\n",
    "    data['default_status'] = default_status\n",
    "    return data\n",
    "train = pred(train)"
   ]
  },
  {
   "cell_type": "code",
   "execution_count": 7,
   "metadata": {
    "ExecuteTime": {
     "end_time": "2020-10-04T12:29:55.254654Z",
     "start_time": "2020-10-04T12:29:55.223655Z"
    }
   },
   "outputs": [],
   "source": [
    "#Label Encoding\n",
    "train.form_field47 = le.fit_transform(train.form_field47).astype(np.uint8)\n",
    "test.form_field47 = le.fit_transform(test.form_field47).astype(np.uint8)"
   ]
  },
  {
   "cell_type": "markdown",
   "metadata": {},
   "source": [
    "### Feature Engineering"
   ]
  },
  {
   "cell_type": "code",
   "execution_count": 8,
   "metadata": {
    "ExecuteTime": {
     "end_time": "2020-10-04T12:30:30.480335Z",
     "start_time": "2020-10-04T12:30:30.000364Z"
    }
   },
   "outputs": [],
   "source": [
    "train['collateral_salary'] = train.form_field15 - train.form_field14\n",
    "train['credit*risk'] = train['form_field1'] * train['form_field2']\n",
    "\n",
    "test['collateral_salary'] = test.form_field15 - test.form_field14\n",
    "test['credit*risk'] = test['form_field1'] * test['form_field2']"
   ]
  },
  {
   "cell_type": "code",
   "execution_count": 11,
   "metadata": {
    "ExecuteTime": {
     "end_time": "2020-10-04T12:31:23.691608Z",
     "start_time": "2020-10-04T12:31:23.659612Z"
    }
   },
   "outputs": [],
   "source": [
    "X = train.drop(['Applicant_ID', 'default_status'], axis =1)\n",
    "y = train.default_status"
   ]
  },
  {
   "cell_type": "markdown",
   "metadata": {
    "ExecuteTime": {
     "end_time": "2020-10-04T12:30:55.872312Z",
     "start_time": "2020-10-04T12:30:55.858314Z"
    }
   },
   "source": [
    "#### Upsampling the data\n",
    "\n",
    "This method was not that helpful due to little or no sign of improvement i notice it late and decided to stick with"
   ]
  },
  {
   "cell_type": "code",
   "execution_count": 12,
   "metadata": {
    "ExecuteTime": {
     "end_time": "2020-10-04T12:31:36.814805Z",
     "start_time": "2020-10-04T12:31:36.745811Z"
    }
   },
   "outputs": [
    {
     "name": "stdout",
     "output_type": "stream",
     "text": [
      "Number of class 1 samples before: 13715\n"
     ]
    }
   ],
   "source": [
    "print('Number of class 1 samples before:',X[y == 1].shape[0])"
   ]
  },
  {
   "cell_type": "code",
   "execution_count": 13,
   "metadata": {
    "ExecuteTime": {
     "end_time": "2020-10-04T12:31:44.652325Z",
     "start_time": "2020-10-04T12:31:43.940370Z"
    }
   },
   "outputs": [
    {
     "name": "stdout",
     "output_type": "stream",
     "text": [
      "Number of class 1 samples after: 42285\n"
     ]
    }
   ],
   "source": [
    "X_upsampled, y_upsampled = resample(X[y == 1],y[y == 1],replace=True,n_samples=X[y == 0].shape[0],random_state=123)\n",
    "print('Number of class 1 samples after:',X_upsampled.shape[0])"
   ]
  },
  {
   "cell_type": "code",
   "execution_count": 14,
   "metadata": {
    "ExecuteTime": {
     "end_time": "2020-10-04T12:31:55.945635Z",
     "start_time": "2020-10-04T12:31:55.529660Z"
    }
   },
   "outputs": [
    {
     "data": {
      "text/plain": [
       "50.0"
      ]
     },
     "execution_count": 14,
     "metadata": {},
     "output_type": "execute_result"
    }
   ],
   "source": [
    "X_bal = np.vstack((X[y == 0], X_upsampled))\n",
    "y_bal = np.hstack((y[y == 0], y_upsampled))\n",
    "\n",
    "y_pred = np.zeros(y_bal.shape[0])\n",
    "np.mean(y_pred == y_bal) * 100"
   ]
  },
  {
   "cell_type": "code",
   "execution_count": 15,
   "metadata": {
    "ExecuteTime": {
     "end_time": "2020-10-04T12:31:58.907456Z",
     "start_time": "2020-10-04T12:31:58.123501Z"
    }
   },
   "outputs": [],
   "source": [
    "X_train, X_test, y_train, y_test = train_test_split(X_bal, y_bal, stratify = y_bal, test_size=0.2, random_state=42)"
   ]
  },
  {
   "cell_type": "markdown",
   "metadata": {},
   "source": [
    "## ML Model "
   ]
  },
  {
   "cell_type": "code",
   "execution_count": 16,
   "metadata": {
    "ExecuteTime": {
     "end_time": "2020-10-04T12:33:02.661548Z",
     "start_time": "2020-10-04T12:33:02.634551Z"
    }
   },
   "outputs": [],
   "source": [
    "lgm = LGBMClassifier(n_estimators=300, random_state=random)\n",
    "ext = ExtraTreesClassifier(n_estimators=300, random_state=random)\n",
    "rfc = RandomForestClassifier(n_estimators=300, random_state=random)\n",
    "\n",
    "classifier = [lgm, ext , rfc]\n",
    "classifier_names = ['LR', 'EXT','Random Forest']"
   ]
  },
  {
   "cell_type": "code",
   "execution_count": 17,
   "metadata": {
    "ExecuteTime": {
     "end_time": "2020-10-04T12:33:12.699932Z",
     "start_time": "2020-10-04T12:33:12.658937Z"
    }
   },
   "outputs": [],
   "source": [
    "def pred (model):\n",
    "    for i, model in enumerate(classifier):\n",
    "        model.fit(X_train,y_train)\n",
    "        pred = model.predict_proba(X_test)[:,1]\n",
    "        roc = roc_auc_score(y_test,pred)\n",
    "        print(f'{classifier_names[i]}:{roc}')\n",
    "\n",
    "def test_roc(model, data, labels):\n",
    "    if hasattr(model, \"decision_function\"):\n",
    "        predictions = model.decision_function(data)\n",
    "    else:\n",
    "        predictions = model.predict_proba(data)[:,1]\n",
    "        fpr, tpr, _ = roc_curve(labels, predictions)\n",
    "    return fpr, tpr"
   ]
  },
  {
   "cell_type": "code",
   "execution_count": 18,
   "metadata": {
    "ExecuteTime": {
     "end_time": "2020-10-04T12:38:28.152073Z",
     "start_time": "2020-10-04T12:33:16.683690Z"
    }
   },
   "outputs": [
    {
     "name": "stdout",
     "output_type": "stream",
     "text": [
      "LR:0.8993572769249426\n",
      "EXT:0.9843732140260246\n",
      "Random Forest:0.9824110099699739\n"
     ]
    }
   ],
   "source": [
    "pred(classifier)"
   ]
  },
  {
   "cell_type": "code",
   "execution_count": 19,
   "metadata": {
    "ExecuteTime": {
     "end_time": "2020-10-04T12:38:58.983185Z",
     "start_time": "2020-10-04T12:38:29.864967Z"
    }
   },
   "outputs": [
    {
     "data": {
      "image/png": "[encoded data removed]",
      "text/plain": [
       "<Figure size 432x288 with 1 Axes>"
      ]
     },
     "metadata": {
      "needs_background": "light"
     },
     "output_type": "display_data"
    }
   ],
   "source": [
    "for i, model in enumerate(classifier):\n",
    "    fpr, tpr = test_roc(model, X_test, y_test)\n",
    "    plt.plot(fpr, tpr, label=classifier_names[i])\n",
    "    plt.plot([0, 1], [0, 1], 'k--')\n",
    "    plt.xlabel('False Positive Rate')\n",
    "    plt.ylabel('True Positive Rate')\n",
    "    plt.legend()"
   ]
  },
  {
   "cell_type": "markdown",
   "metadata": {},
   "source": [
    "### A KFold Voting Classifier of Catboost and Lightgbm Model"
   ]
  },
  {
   "cell_type": "code",
   "execution_count": 20,
   "metadata": {
    "ExecuteTime": {
     "end_time": "2020-10-04T12:43:17.109779Z",
     "start_time": "2020-10-04T12:43:16.912790Z"
    }
   },
   "outputs": [],
   "source": [
    "vcf = VotingClassifier(estimators=[('lr', lgm), ('rf', ext), ('gnb', rfc)], voting='soft')"
   ]
  },
  {
   "cell_type": "code",
   "execution_count": 21,
   "metadata": {
    "ExecuteTime": {
     "end_time": "2020-10-04T13:39:08.797999Z",
     "start_time": "2020-10-04T13:12:55.106359Z"
    }
   },
   "outputs": [
    {
     "name": "stdout",
     "output_type": "stream",
     "text": [
      "ROC_AUC_SCORE: 0.8357523466530715 ******************************\n",
      "ROC_AUC_SCORE: 0.8425893426862118 ******************************\n",
      "ROC_AUC_SCORE: 0.8366142459049042 ******************************\n",
      "ROC_AUC_SCORE: 0.8450669676643703 ******************************\n",
      "ROC_AUC_SCORE: 0.8411702441789652 ******************************\n",
      "ROC_AUC_SCORE: 0.8311825434068512 ******************************\n",
      "ROC_AUC_SCORE: 0.8414458504634109 ******************************\n",
      "ROC_AUC_SCORE: 0.8333258527711871 ******************************\n",
      "ROC_AUC_SCORE: 0.8389544234859314 ******************************\n",
      "ROC_AUC_SCORE: 0.8432792591388718 ******************************\n"
     ]
    }
   ],
   "source": [
    "cv_score = []\n",
    "test_score = []\n",
    "split = 10\n",
    "fold = KFold(n_splits=split, shuffle=True, random_state=random)\n",
    "\n",
    "for train_index, test_index in fold.split(X, y):\n",
    "    X_train, X_test = X.loc[train_index], X.loc[test_index]\n",
    "    y_train, y_test = y.loc[train_index], y.loc[test_index]\n",
    "\n",
    "    vcf.fit(X_train,y_train)\n",
    "\n",
    "    y_pred = vcf.predict_proba(X_test)[:,1]\n",
    "\n",
    "    print('ROC_AUC_SCORE:', roc_auc_score(y_test,y_pred), '*'*30)\n",
    "\n",
    "    cv_score.append(roc_auc_score(y_test,y_pred))\n",
    "\n",
    "    p = vcf.predict_proba(test[X.columns])[:,1]\n",
    "\n",
    "    test_score.append(p)"
   ]
  },
  {
   "cell_type": "code",
   "execution_count": 22,
   "metadata": {
    "ExecuteTime": {
     "end_time": "2020-10-04T13:39:11.052859Z",
     "start_time": "2020-10-04T13:39:10.970811Z"
    }
   },
   "outputs": [
    {
     "name": "stdout",
     "output_type": "stream",
     "text": [
      "Mean of ROC Score: 0.8389381076353775\n"
     ]
    }
   ],
   "source": [
    "print(f'Mean of ROC Score: {np.array(cv_score).mean()}')"
   ]
  },
  {
   "cell_type": "code",
   "execution_count": 24,
   "metadata": {
    "ExecuteTime": {
     "end_time": "2020-10-04T13:49:29.879411Z",
     "start_time": "2020-10-04T13:49:29.870410Z"
    }
   },
   "outputs": [],
   "source": [
    "prediction = np.sum(np.array(test_score),axis=0)/split"
   ]
  },
  {
   "cell_type": "markdown",
   "metadata": {},
   "source": [
    "### Creating Prediction file"
   ]
  },
  {
   "cell_type": "code",
   "execution_count": 25,
   "metadata": {
    "ExecuteTime": {
     "end_time": "2020-10-04T13:49:31.575305Z",
     "start_time": "2020-10-04T13:49:31.335320Z"
    }
   },
   "outputs": [],
   "source": [
    "sub = pd.DataFrame({'Applicant_ID':test.Applicant_ID, 'default_status':prediction})"
   ]
  },
  {
   "cell_type": "code",
   "execution_count": 26,
   "metadata": {
    "ExecuteTime": {
     "end_time": "2020-10-04T13:49:33.487187Z",
     "start_time": "2020-10-04T13:49:32.675238Z"
    }
   },
   "outputs": [],
   "source": [
    "sub.to_csv('vcf_kfold_submission.csv', index = False)"
   ]
  },
  {
   "cell_type": "code",
   "execution_count": 27,
   "metadata": {
    "ExecuteTime": {
     "end_time": "2020-10-04T13:49:35.052091Z",
     "start_time": "2020-10-04T13:49:34.617120Z"
    }
   },
   "outputs": [
    {
     "data": {
      "text/html": [
       "<div>\n",
       "<style scoped>\n",
       "    .dataframe tbody tr th:only-of-type {\n",
       "        vertical-align: middle;\n",
       "    }\n",
       "\n",
       "    .dataframe tbody tr th {\n",
       "        vertical-align: top;\n",
       "    }\n",
       "\n",
       "    .dataframe thead th {\n",
       "        text-align: right;\n",
       "    }\n",
       "</style>\n",
       "<table border=\"1\" class=\"dataframe\">\n",
       "  <thead>\n",
       "    <tr style=\"text-align: right;\">\n",
       "      <th></th>\n",
       "      <th>default_status</th>\n",
       "    </tr>\n",
       "  </thead>\n",
       "  <tbody>\n",
       "    <tr>\n",
       "      <td>count</td>\n",
       "      <td>24000.000000</td>\n",
       "    </tr>\n",
       "    <tr>\n",
       "      <td>mean</td>\n",
       "      <td>0.247818</td>\n",
       "    </tr>\n",
       "    <tr>\n",
       "      <td>std</td>\n",
       "      <td>0.220490</td>\n",
       "    </tr>\n",
       "    <tr>\n",
       "      <td>min</td>\n",
       "      <td>0.000228</td>\n",
       "    </tr>\n",
       "    <tr>\n",
       "      <td>25%</td>\n",
       "      <td>0.060048</td>\n",
       "    </tr>\n",
       "    <tr>\n",
       "      <td>50%</td>\n",
       "      <td>0.186535</td>\n",
       "    </tr>\n",
       "    <tr>\n",
       "      <td>75%</td>\n",
       "      <td>0.386326</td>\n",
       "    </tr>\n",
       "    <tr>\n",
       "      <td>max</td>\n",
       "      <td>0.935268</td>\n",
       "    </tr>\n",
       "  </tbody>\n",
       "</table>\n",
       "</div>"
      ],
      "text/plain": [
       "       default_status\n",
       "count    24000.000000\n",
       "mean         0.247818\n",
       "std          0.220490\n",
       "min          0.000228\n",
       "25%          0.060048\n",
       "50%          0.186535\n",
       "75%          0.386326\n",
       "max          0.935268"
      ]
     },
     "execution_count": 27,
     "metadata": {},
     "output_type": "execute_result"
    }
   ],
   "source": [
    "sub.describe()"
   ]
  }
 ],
 "metadata": {
  "kernelspec": {
   "display_name": "Python 3",
   "language": "python",
   "name": "python3"
  },
  "language_info": {
   "codemirror_mode": {
    "name": "ipython",
    "version": 3
   },
   "file_extension": ".py",
   "mimetype": "text/x-python",
   "name": "python",
   "nbconvert_exporter": "python",
   "pygments_lexer": "ipython3",
   "version": "3.7.4"
  },
  "latex_envs": {
   "LaTeX_envs_menu_present": true,
   "autoclose": false,
   "autocomplete": true,
   "bibliofile": "biblio.bib",
   "cite_by": "apalike",
   "current_citInitial": 1,
   "eqLabelWithNumbers": true,
   "eqNumInitial": 1,
   "hotkeys": {
    "equation": "Ctrl-E",
    "itemize": "Ctrl-I"
   },
   "labels_anchors": false,
   "latex_user_defs": false,
   "report_style_numbering": false,
   "user_envs_cfg": false
  },
  "varInspector": {
   "cols": {
    "lenName": 16,
    "lenType": 16,
    "lenVar": 40
   },
   "kernels_config": {
    "python": {
     "delete_cmd_postfix": "",
     "delete_cmd_prefix": "del ",
     "library": "var_list.py",
     "varRefreshCmd": "print(var_dic_list())"
    },
    "r": {
     "delete_cmd_postfix": ") ",
     "delete_cmd_prefix": "rm(",
     "library": "var_list.r",
     "varRefreshCmd": "cat(var_dic_list()) "
    }
   },
   "types_to_exclude": [
    "module",
    "function",
    "builtin_function_or_method",
    "instance",
    "_Feature"
   ],
   "window_display": false
  }
 },
 "nbformat": 4,
 "nbformat_minor": 2
}
